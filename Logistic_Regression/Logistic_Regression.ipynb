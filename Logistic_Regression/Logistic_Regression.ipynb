{
 "cells": [
  {
   "cell_type": "markdown",
   "metadata": {
    "id": "Zlvm977gDL2A"
   },
   "source": [
    "## Import Libraries: NumPy, Pandas and matplotlib"
   ]
  },
  {
   "cell_type": "code",
   "execution_count": 1,
   "metadata": {
    "id": "9r1LpzsLVaCf"
   },
   "outputs": [
    {
     "name": "stderr",
     "output_type": "stream",
     "text": [
      "/home/shaan/.local/lib/python3.10/site-packages/matplotlib/projections/__init__.py:63: UserWarning: Unable to import Axes3D. This may be due to multiple versions of Matplotlib being installed (e.g. as a system package and as a pip package). As a result, the 3D projection is not available.\n",
      "  warnings.warn(\"Unable to import Axes3D. This may be due to multiple versions of \"\n"
     ]
    }
   ],
   "source": [
    "import numpy as np\n",
    "import pandas as pd\n",
    "import matplotlib.pyplot as plt"
   ]
  },
  {
   "cell_type": "markdown",
   "metadata": {
    "id": "pPNtDXelDPP3"
   },
   "source": [
    "## Read dataset and get feature values and target values"
   ]
  },
  {
   "cell_type": "code",
   "execution_count": 3,
   "metadata": {
    "id": "k0-Mb7yUc75a"
   },
   "outputs": [
    {
     "name": "stdout",
     "output_type": "stream",
     "text": [
      "[[  1.    39.     4.   ...  26.97  80.    77.  ]\n",
      " [  0.    46.     2.   ...  28.73  95.    76.  ]\n",
      " [  1.    48.     1.   ...  25.34  75.    70.  ]\n",
      " ...\n",
      " [  1.    50.     1.   ...  25.97  66.    86.  ]\n",
      " [  1.    51.     3.   ...  19.71  65.    68.  ]\n",
      " [  0.    52.     2.   ...  21.47  80.   107.  ]]\n"
     ]
    }
   ],
   "source": [
    "data = pd.read_csv(\"framingham.csv\").dropna()\n",
    "\n",
    "\n",
    "x = data.drop(columns=['TenYearCHD']).values   # getting our vector of parameters from here\n",
    "y = data['TenYearCHD'].values\n",
    "\n",
    "print(x)\n",
    "# Z score normalisation of features, we will get our scaled data\n",
    "x = (x - x.mean(axis=0))/(x.std(axis=0))"
   ]
  },
  {
   "cell_type": "markdown",
   "metadata": {
    "id": "wCak2fjAEGYN"
   },
   "source": [
    "## Perform Gradient Descent and get final parameters"
   ]
  },
  {
   "cell_type": "code",
   "execution_count": 4,
   "metadata": {
    "colab": {
     "base_uri": "https://localhost:8080/"
    },
    "id": "O0mlQA5pj7ZG",
    "outputId": "ffe4e149-57ff-47dc-e64d-6bbd0d40c76e"
   },
   "outputs": [
    {
     "name": "stdout",
     "output_type": "stream",
     "text": [
      "[ 0.27578079  0.54315827 -0.04856658  0.03542918  0.21366781  0.02783952\n",
      "  0.0524087   0.10866633  0.00640507  0.10246239  0.3401309  -0.04947461\n",
      "  0.02684344 -0.03893334  0.17031052]\n",
      "-1.9925151712963136\n"
     ]
    }
   ],
   "source": [
    "def sigmoid(z):\n",
    "  return 1/(1 + np.exp(-z))\n",
    "\n",
    "\n",
    "b = 0\n",
    "a = 0.001\n",
    "m = x.shape[1]\n",
    "params = np.zeros(m)\n",
    "iterations = 10000\n",
    "\n",
    "\n",
    "def gradient_descent():\n",
    "\n",
    "  global params, b\n",
    "  temp_b = 0\n",
    "  temp_params = np.zeros(m)\n",
    "  temp_gradients = np.zeros(m)\n",
    "\n",
    "  for i in range(m):\n",
    "    temp_gradients[i] += np.sum((sigmoid(np.dot(params, x.T) + b) - y)*x[:, i])/m\n",
    "\n",
    "  temp_b += np.sum((sigmoid(np.dot(params, x.T) + b) - y))/m\n",
    "\n",
    "  params = params - a*(temp_gradients)\n",
    "  b = b - a*(temp_b)\n",
    "\n",
    "\n",
    "for i in range(iterations):\n",
    "  gradient_descent()\n",
    "\n",
    "print(params)\n",
    "print(b)"
   ]
  },
  {
   "cell_type": "markdown",
   "metadata": {
    "id": "CPq6bW54EQNh"
   },
   "source": [
    "## Make predictions on the basis of probabilites, P >= 0.5 ---> assign 1 else assign 0 and get accuracy"
   ]
  },
  {
   "cell_type": "code",
   "execution_count": 58,
   "metadata": {
    "colab": {
     "base_uri": "https://localhost:8080/"
    },
    "id": "gYxkRjGZ1qDy",
    "outputId": "32410bc6-8a6e-44b9-80bc-3efa504340ee"
   },
   "outputs": [
    {
     "name": "stdout",
     "output_type": "stream",
     "text": [
      "Accuracy: 85.64004376367615%\n"
     ]
    }
   ],
   "source": [
    "def predict(X, params, b):\n",
    "  probs = sigmoid(np.dot(params, X.T) + b)\n",
    "  return (probs >= 0.5).astype(int)\n",
    "\n",
    "\n",
    "probs = predict(x, params, b)\n",
    "correct_counter = 0\n",
    "\n",
    "\n",
    "for i in range(len(y)):\n",
    "  if y[i] == probs[i]:\n",
    "    correct_counter += 1\n",
    "\n",
    "\n",
    "print(f\"Accuracy: {correct_counter*100/len(y)}%\")"
   ]
  },
  {
   "cell_type": "code",
   "execution_count": null,
   "metadata": {
    "id": "Q279z3kb19Zh"
   },
   "outputs": [],
   "source": []
  }
 ],
 "metadata": {
  "colab": {
   "provenance": []
  },
  "kernelspec": {
   "display_name": "Python 3 (ipykernel)",
   "language": "python",
   "name": "python3"
  },
  "language_info": {
   "codemirror_mode": {
    "name": "ipython",
    "version": 3
   },
   "file_extension": ".py",
   "mimetype": "text/x-python",
   "name": "python",
   "nbconvert_exporter": "python",
   "pygments_lexer": "ipython3",
   "version": "3.10.12"
  }
 },
 "nbformat": 4,
 "nbformat_minor": 4
}
